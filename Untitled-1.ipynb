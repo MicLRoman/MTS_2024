{
 "cells": [
  {
   "cell_type": "markdown",
   "metadata": {},
   "source": [
    "# <b>Распознать речь</b>\n"
   ]
  },
  {
   "cell_type": "markdown",
   "metadata": {},
   "source": [
    "def to_text(bot, message, reply_to=None):\n",
    "    \"\"\"Take a voice message + circle and translate to text\"\"\"\n",
    "\n",
    "    if reply_to != None:\n",
    "        message = reply_to\n",
    "\n",
    "    file_name_full = \"output\\\\voice_in\\\\\" + message.voice.file_id + \".ogg\"\n",
    "    file_name_full_converted = \"output\\\\voice_in\\\\\" + message.voice.file_id + \".wav\"\n",
    "    file_info = bot.get_file(message.voice.file_id)\n",
    "\n",
    "    makedirs(\"output\\\\voice_in\", exist_ok=True)\n",
    "\n",
    "    downloaded_file = bot.download_file(file_info.file_path)\n",
    "    with open(file_name_full, \"wb\") as new_file:\n",
    "        new_file.write(downloaded_file)\n",
    "\n",
    "    # Load ogg file\n",
    "    data, samplerate = sf.read(file_name_full)\n",
    "\n",
    "    # Export as wav\n",
    "    sf.write(file_name_full_converted, data, samplerate)\n",
    "\n",
    "    # Delete .ogg file\n",
    "    remove(file_name_full)\n",
    "\n",
    "    text = gpt.speech_to_text(file_name_full_converted)\n",
    "\n",
    "    remove(file_name_full_converted)\n",
    "\n",
    "    return text"
   ]
  },
  {
   "cell_type": "code",
   "execution_count": null,
   "metadata": {},
   "outputs": [],
   "source": [
    " def to_text(bot, message, reply_to=None):\n",
    "    \"\"\"Take a voice message + circle and translate to text\"\"\"\n",
    "\n",
    "    if reply_to != None:\n",
    "        message = reply_to\n",
    "\n",
    "    file_name_full = \"output\\\\voice_in\\\\\" + message.voice.file_id + \".ogg\"\n",
    "    file_name_full_converted = \"output\\\\voice_in\\\\\" + message.voice.file_id + \".wav\"\n",
    "    file_info = bot.get_file(message.voice.file_id)\n",
    "\n",
    "    makedirs(\"output\\\\voice_in\", exist_ok=True)\n",
    "\n",
    "    downloaded_file = bot.download_file(file_info.file_path)\n",
    "    with open(file_name_full, \"wb\") as new_file:\n",
    "        new_file.write(downloaded_file)\n",
    "\n",
    "    # Load ogg file\n",
    "    data, samplerate = sf.read(file_name_full)\n",
    "\n",
    "    # Export as wav\n",
    "    sf.write(file_name_full_converted, data, samplerate)\n",
    "\n",
    "    # Delete .ogg file\n",
    "    remove(file_name_full)\n",
    "\n",
    "    text = gpt.speech_to_text(file_name_full_converted)\n",
    "\n",
    "    remove(file_name_full_converted)\n",
    "\n",
    "    return text"
   ]
  },
  {
   "cell_type": "markdown",
   "metadata": {},
   "source": [
    "# <b>Принять решение</b>"
   ]
  },
  {
   "cell_type": "markdown",
   "metadata": {},
   "source": []
  },
  {
   "cell_type": "markdown",
   "metadata": {},
   "source": [
    "# <b>Выдать ему в каком-то формате</b>"
   ]
  },
  {
   "cell_type": "markdown",
   "metadata": {},
   "source": []
  }
 ],
 "metadata": {
  "kernelspec": {
   "display_name": "Python 3",
   "language": "python",
   "name": "python3"
  },
  "language_info": {
   "name": "python",
   "version": "3.10.5"
  }
 },
 "nbformat": 4,
 "nbformat_minor": 2
}
